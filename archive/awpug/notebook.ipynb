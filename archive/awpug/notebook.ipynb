{
 "metadata": {
  "name": "gevent"
 },
 "nbformat": 3,
 "nbformat_minor": 0,
 "worksheets": [
  {
   "cells": [
    {
     "cell_type": "markdown",
     "metadata": {},
     "source": "Let's begin with some import boilerplate and a helper function..."
    },
    {
     "cell_type": "code",
     "collapsed": false,
     "input": "import gevent\nimport sys\n\n# Print helper that always flushes\ndef write(value):\n    sys.stdout.write(value)\n    sys.stdout.flush()",
     "language": "python",
     "metadata": {},
     "outputs": [],
     "prompt_number": 5
    },
    {
     "cell_type": "markdown",
     "metadata": {},
     "source": "#### Greenlets are a lot like generators. The following 2 snippets are equivalent:"
    },
    {
     "cell_type": "code",
     "collapsed": false,
     "input": "def f():\n    print 'f() line 1'\n    yield\n    print 'f() line 3'\n    yield\n\ng = f()\n\ng.next()\nprint 'main'\ng.next()",
     "language": "python",
     "metadata": {},
     "outputs": [
      {
       "output_type": "stream",
       "stream": "stdout",
       "text": "f() line 1\nmain\nf() line 3\n"
      }
     ],
     "prompt_number": 6
    },
    {
     "cell_type": "code",
     "collapsed": false,
     "input": "import greenlet\n\ndef f():\n    print 'f() line 1'\n    greenlet.getcurrent().parent.switch()\n    print 'f() line 3.'\n\ng = greenlet.greenlet(f)\ng.switch()\nprint 'main'\ng.switch()",
     "language": "python",
     "metadata": {},
     "outputs": [
      {
       "output_type": "stream",
       "stream": "stdout",
       "text": "f() line 1\nmain\nf() line 3.\n"
      }
     ],
     "prompt_number": 7
    },
    {
     "cell_type": "markdown",
     "metadata": {},
     "source": "## gevent api\n#### gevent.spawn and greenlet.join"
    },
    {
     "cell_type": "code",
     "collapsed": false,
     "input": "def add(x, y):\n    print x + y\ngreenlet = gevent.spawn(add, 1, 2)\ngreenlet.join()",
     "language": "python",
     "metadata": {},
     "outputs": [
      {
       "output_type": "stream",
       "stream": "stdout",
       "text": "3\n"
      }
     ],
     "prompt_number": 9
    },
    {
     "cell_type": "markdown",
     "metadata": {},
     "source": "#### gevent.sleep"
    },
    {
     "cell_type": "code",
     "collapsed": false,
     "input": "def func1():\n    gevent.sleep(2)\n    write('function 1\\n')\n\ndef func2():\n    gevent.sleep(1)\n    write('function 2\\n')\n\ngreen1 = gevent.spawn(func1)\ngreen2 = gevent.spawn(func2)\ngevent.joinall([green1, green2])",
     "language": "python",
     "metadata": {},
     "outputs": [
      {
       "output_type": "stream",
       "stream": "stdout",
       "text": "function 2\n"
      },
      {
       "output_type": "stream",
       "stream": "stdout",
       "text": "function 1\n"
      }
     ],
     "prompt_number": 20
    },
    {
     "cell_type": "markdown",
     "metadata": {},
     "source": "#### gevent.Timeout"
    },
    {
     "cell_type": "code",
     "collapsed": false,
     "input": "data = None\nwith gevent.Timeout(seconds=1, exception=False):\n    gevent.sleep(2)\n    data = 'data'\n\nif data is None:\n    print 'timeout elapsed'\nelse:\n    print data",
     "language": "python",
     "metadata": {},
     "outputs": [
      {
       "output_type": "stream",
       "stream": "stdout",
       "text": "timeout elapsed\n"
      }
     ],
     "prompt_number": 11
    },
    {
     "cell_type": "markdown",
     "metadata": {},
     "source": "#### gevent.event.Event"
    },
    {
     "cell_type": "code",
     "collapsed": false,
     "input": "from gevent.event import Event\nevent = Event()\ndef func1(event):\n    print 'func1: setting event'\n    event.set()\ndef func2(event):\n    print 'func2: waiting for event'\n    event.wait()\n    print 'func2: event captured'\ngevent.joinall([\n    gevent.spawn(func1, event),\n    gevent.spawn(func2, event)])",
     "language": "python",
     "metadata": {},
     "outputs": [
      {
       "output_type": "stream",
       "stream": "stdout",
       "text": "func1: setting event\nfunc2: waiting for event\nfunc2: event captured\n"
      }
     ],
     "prompt_number": 12
    },
    {
     "cell_type": "markdown",
     "metadata": {},
     "source": "#### gevent.event.AsyncResult"
    },
    {
     "cell_type": "code",
     "collapsed": false,
     "input": "from gevent.event import AsyncResult\nresult = AsyncResult()\ndef func1(result):\n    print 'func1: sending data'\n    result.set('nice!')\ndef func2(result):\n    print 'func2: waiting for result'\n    data = result.get()\n    print 'func2: result captured: ' + data\ngevent.joinall([\n    gevent.spawn(func1, result),\n    gevent.spawn(func2, result)])",
     "language": "python",
     "metadata": {},
     "outputs": [
      {
       "output_type": "stream",
       "stream": "stdout",
       "text": "func1: sending data\nfunc2: waiting for result\nfunc2: result captured: nice!\n"
      }
     ],
     "prompt_number": 13
    },
    {
     "cell_type": "markdown",
     "metadata": {},
     "source": "#### gevent.queue ####"
    },
    {
     "cell_type": "code",
     "collapsed": false,
     "input": "import gevent\nfrom gevent.queue import Queue\nqueue = Queue()\ndef func1(queue):\n    queue.put(1)\n    queue.put(2)\ndef func2(queue):\n    print queue.get()\n    print queue.get()\ngevent.joinall([\n    gevent.spawn(func1, queue),\n    gevent.spawn(func2, queue)])",
     "language": "python",
     "metadata": {},
     "outputs": [
      {
       "output_type": "stream",
       "stream": "stdout",
       "text": "1\n2\n"
      }
     ],
     "prompt_number": 14
    },
    {
     "cell_type": "markdown",
     "metadata": {},
     "source": "#### gevent.pool"
    },
    {
     "cell_type": "code",
     "collapsed": false,
     "input": "from gevent.pool import Pool\npool = Pool(size=2)\n\ndef sleep_and_write(text):\n    gevent.sleep(1)\n    write(text + '\\n')\n\npool.spawn(sleep_and_write, '1')\npool.spawn(sleep_and_write, '2')\npool.spawn(sleep_and_write, '3')\npool.spawn(sleep_and_write, '4')\npool.spawn(sleep_and_write, '5')\npool.join()",
     "language": "python",
     "metadata": {},
     "outputs": [
      {
       "output_type": "stream",
       "stream": "stdout",
       "text": "1\n"
      },
      {
       "output_type": "stream",
       "stream": "stdout",
       "text": "2\n"
      },
      {
       "output_type": "stream",
       "stream": "stdout",
       "text": "3\n"
      },
      {
       "output_type": "stream",
       "stream": "stdout",
       "text": "4\n"
      },
      {
       "output_type": "stream",
       "stream": "stdout",
       "text": "5\n"
      }
     ],
     "prompt_number": 15
    },
    {
     "cell_type": "markdown",
     "metadata": {},
     "source": "#### gevent.threadpool"
    },
    {
     "cell_type": "code",
     "collapsed": false,
     "input": "from time import sleep, time\nfrom gevent.threadpool import ThreadPool\npool = ThreadPool(4)\nstart_time = time()\npool.map(sleep, [1, 1, 1, 1])\nprint time() - start_time",
     "language": "python",
     "metadata": {},
     "outputs": [
      {
       "output_type": "stream",
       "stream": "stdout",
       "text": "1.00341486931\n"
      }
     ],
     "prompt_number": 16
    },
    {
     "cell_type": "markdown",
     "metadata": {},
     "source": "#### gevent.server"
    },
    {
     "cell_type": "code",
     "collapsed": false,
     "input": "from gevent.server import StreamServer\ndef handle(socket, address):\n    socket.send('Hello, \"%s\"!!!\\n' % address[0])\n\nserver = StreamServer(('127.0.0.1', 1234), handle)\nserver.serve_forever()",
     "language": "python",
     "metadata": {},
     "outputs": [
      {
       "output_type": "pyout",
       "prompt_number": 32,
       "text": "<bound method StreamServer.serve_forever of <StreamServer at 0x10dadd810 address=127.0.0.1:1234 handle=handle>>"
      }
     ],
     "prompt_number": 32
    },
    {
     "cell_type": "markdown",
     "metadata": {},
     "source": "## More examples"
    },
    {
     "cell_type": "code",
     "collapsed": false,
     "input": "def begin_end():\n    write('begin')\n    for _ in range(10):\n        gevent.sleep(0.3)\n        write('.')\n    write('end!')\nbegin_end()",
     "language": "python",
     "metadata": {},
     "outputs": [
      {
       "output_type": "stream",
       "stream": "stdout",
       "text": "begin"
      },
      {
       "output_type": "stream",
       "stream": "stdout",
       "text": "."
      },
      {
       "output_type": "stream",
       "stream": "stdout",
       "text": "."
      },
      {
       "output_type": "stream",
       "stream": "stdout",
       "text": "."
      },
      {
       "output_type": "stream",
       "stream": "stdout",
       "text": "."
      },
      {
       "output_type": "stream",
       "stream": "stdout",
       "text": "."
      },
      {
       "output_type": "stream",
       "stream": "stdout",
       "text": "."
      },
      {
       "output_type": "stream",
       "stream": "stdout",
       "text": "."
      },
      {
       "output_type": "stream",
       "stream": "stdout",
       "text": "."
      },
      {
       "output_type": "stream",
       "stream": "stdout",
       "text": "."
      },
      {
       "output_type": "stream",
       "stream": "stdout",
       "text": "."
      },
      {
       "output_type": "stream",
       "stream": "stdout",
       "text": "end!"
      }
     ],
     "prompt_number": 33
    },
    {
     "cell_type": "code",
     "collapsed": false,
     "input": "from gevent import joinall, spawn, sleep\n\ndef addspaces():\n    for _ in range(10):\n        sleep(0.3)\n        write(' ')\njoinall([spawn(begin_end), spawn(addspaces)])",
     "language": "python",
     "metadata": {},
     "outputs": [
      {
       "output_type": "stream",
       "stream": "stdout",
       "text": "begin"
      },
      {
       "output_type": "stream",
       "stream": "stdout",
       "text": "."
      },
      {
       "output_type": "stream",
       "stream": "stdout",
       "text": " "
      },
      {
       "output_type": "stream",
       "stream": "stdout",
       "text": "."
      },
      {
       "output_type": "stream",
       "stream": "stdout",
       "text": " "
      },
      {
       "output_type": "stream",
       "stream": "stdout",
       "text": "."
      },
      {
       "output_type": "stream",
       "stream": "stdout",
       "text": " "
      },
      {
       "output_type": "stream",
       "stream": "stdout",
       "text": "."
      },
      {
       "output_type": "stream",
       "stream": "stdout",
       "text": " "
      },
      {
       "output_type": "stream",
       "stream": "stdout",
       "text": "."
      },
      {
       "output_type": "stream",
       "stream": "stdout",
       "text": " "
      },
      {
       "output_type": "stream",
       "stream": "stdout",
       "text": "."
      },
      {
       "output_type": "stream",
       "stream": "stdout",
       "text": " "
      },
      {
       "output_type": "stream",
       "stream": "stdout",
       "text": "."
      },
      {
       "output_type": "stream",
       "stream": "stdout",
       "text": " "
      },
      {
       "output_type": "stream",
       "stream": "stdout",
       "text": "."
      },
      {
       "output_type": "stream",
       "stream": "stdout",
       "text": " "
      },
      {
       "output_type": "stream",
       "stream": "stdout",
       "text": "."
      },
      {
       "output_type": "stream",
       "stream": "stdout",
       "text": " "
      },
      {
       "output_type": "stream",
       "stream": "stdout",
       "text": "."
      },
      {
       "output_type": "stream",
       "stream": "stdout",
       "text": "end!"
      },
      {
       "output_type": "stream",
       "stream": "stdout",
       "text": " "
      }
     ],
     "prompt_number": 34
    },
    {
     "cell_type": "code",
     "collapsed": false,
     "input": "def g1():\n    for _ in range(50):\n        write('-')\n        gevent.sleep(0.2)\ndef g2():\n    for _ in range(10):\n        write('|')\n        gevent.sleep(1)\n        \ngevent.joinall([gevent.spawn(g1), gevent.spawn(g2)])",
     "language": "python",
     "metadata": {},
     "outputs": [
      {
       "output_type": "stream",
       "stream": "stdout",
       "text": "-"
      },
      {
       "output_type": "stream",
       "stream": "stdout",
       "text": "|"
      },
      {
       "output_type": "stream",
       "stream": "stdout",
       "text": "-"
      },
      {
       "output_type": "stream",
       "stream": "stdout",
       "text": "-"
      },
      {
       "output_type": "stream",
       "stream": "stdout",
       "text": "-"
      },
      {
       "output_type": "stream",
       "stream": "stdout",
       "text": "-"
      },
      {
       "output_type": "stream",
       "stream": "stdout",
       "text": "|"
      },
      {
       "output_type": "stream",
       "stream": "stdout",
       "text": "-"
      },
      {
       "output_type": "stream",
       "stream": "stdout",
       "text": "-"
      },
      {
       "output_type": "stream",
       "stream": "stdout",
       "text": "-"
      },
      {
       "output_type": "stream",
       "stream": "stdout",
       "text": "-"
      },
      {
       "output_type": "stream",
       "stream": "stdout",
       "text": "-"
      },
      {
       "output_type": "stream",
       "stream": "stdout",
       "text": "|"
      },
      {
       "output_type": "stream",
       "stream": "stdout",
       "text": "-"
      },
      {
       "output_type": "stream",
       "stream": "stdout",
       "text": "-"
      },
      {
       "output_type": "stream",
       "stream": "stdout",
       "text": "-"
      },
      {
       "output_type": "stream",
       "stream": "stdout",
       "text": "-"
      },
      {
       "output_type": "stream",
       "stream": "stdout",
       "text": "-"
      },
      {
       "output_type": "stream",
       "stream": "stdout",
       "text": "|"
      },
      {
       "output_type": "stream",
       "stream": "stdout",
       "text": "-"
      },
      {
       "output_type": "stream",
       "stream": "stdout",
       "text": "-"
      },
      {
       "output_type": "stream",
       "stream": "stdout",
       "text": "-"
      },
      {
       "output_type": "stream",
       "stream": "stdout",
       "text": "-"
      },
      {
       "output_type": "stream",
       "stream": "stdout",
       "text": "-"
      },
      {
       "output_type": "stream",
       "stream": "stdout",
       "text": "|"
      },
      {
       "output_type": "stream",
       "stream": "stdout",
       "text": "-"
      },
      {
       "output_type": "stream",
       "stream": "stdout",
       "text": "-"
      },
      {
       "output_type": "stream",
       "stream": "stdout",
       "text": "-"
      },
      {
       "output_type": "stream",
       "stream": "stdout",
       "text": "-"
      },
      {
       "output_type": "stream",
       "stream": "stdout",
       "text": "-"
      },
      {
       "output_type": "stream",
       "stream": "stdout",
       "text": "|"
      },
      {
       "output_type": "stream",
       "stream": "stdout",
       "text": "-"
      },
      {
       "output_type": "stream",
       "stream": "stdout",
       "text": "-"
      },
      {
       "output_type": "stream",
       "stream": "stdout",
       "text": "-"
      },
      {
       "output_type": "stream",
       "stream": "stdout",
       "text": "-"
      },
      {
       "output_type": "stream",
       "stream": "stdout",
       "text": "-"
      },
      {
       "output_type": "stream",
       "stream": "stdout",
       "text": "|"
      },
      {
       "output_type": "stream",
       "stream": "stdout",
       "text": "-"
      },
      {
       "output_type": "stream",
       "stream": "stdout",
       "text": "-"
      },
      {
       "output_type": "stream",
       "stream": "stdout",
       "text": "-"
      },
      {
       "output_type": "stream",
       "stream": "stdout",
       "text": "-"
      },
      {
       "output_type": "stream",
       "stream": "stdout",
       "text": "-"
      },
      {
       "output_type": "stream",
       "stream": "stdout",
       "text": "|"
      },
      {
       "output_type": "stream",
       "stream": "stdout",
       "text": "-"
      },
      {
       "output_type": "stream",
       "stream": "stdout",
       "text": "-"
      },
      {
       "output_type": "stream",
       "stream": "stdout",
       "text": "-"
      },
      {
       "output_type": "stream",
       "stream": "stdout",
       "text": "-"
      },
      {
       "output_type": "stream",
       "stream": "stdout",
       "text": "-"
      },
      {
       "output_type": "stream",
       "stream": "stdout",
       "text": "|"
      },
      {
       "output_type": "stream",
       "stream": "stdout",
       "text": "-"
      },
      {
       "output_type": "stream",
       "stream": "stdout",
       "text": "-"
      },
      {
       "output_type": "stream",
       "stream": "stdout",
       "text": "-"
      },
      {
       "output_type": "stream",
       "stream": "stdout",
       "text": "-"
      },
      {
       "output_type": "stream",
       "stream": "stdout",
       "text": "-"
      },
      {
       "output_type": "stream",
       "stream": "stdout",
       "text": "|"
      },
      {
       "output_type": "stream",
       "stream": "stdout",
       "text": "-"
      },
      {
       "output_type": "stream",
       "stream": "stdout",
       "text": "-"
      },
      {
       "output_type": "stream",
       "stream": "stdout",
       "text": "-"
      },
      {
       "output_type": "stream",
       "stream": "stdout",
       "text": "-"
      },
      {
       "output_type": "stream",
       "stream": "stdout",
       "text": "-"
      }
     ],
     "prompt_number": 36
    },
    {
     "cell_type": "code",
     "collapsed": false,
     "input": "import gevent\ndef func():\n    gevent.sleep(1)\ngreenlets = [gevent.spawn(func) for i in xrange(10000)]\ngevent.joinall(greenlets)",
     "language": "python",
     "metadata": {},
     "outputs": [],
     "prompt_number": 18
    },
    {
     "cell_type": "code",
     "collapsed": false,
     "input": "import threading, time\ndef func():\n    time.sleep(10);\nthreads = [threading.Thread(target=func) for i in xrange(10000)]\nfor t in threads:\n    t.start()\nfor t in threads:\n    t.join()",
     "language": "python",
     "metadata": {},
     "outputs": [
      {
       "ename": "error",
       "evalue": "can't start new thread",
       "output_type": "pyerr",
       "traceback": [
        "\u001b[0;31m---------------------------------------------------------------------------\u001b[0m\n\u001b[0;31merror\u001b[0m                                     Traceback (most recent call last)",
        "\u001b[0;32m<ipython-input-17-e06a2a2c2abc>\u001b[0m in \u001b[0;36m<module>\u001b[0;34m()\u001b[0m\n\u001b[1;32m      4\u001b[0m \u001b[0mthreads\u001b[0m \u001b[0;34m=\u001b[0m \u001b[0;34m[\u001b[0m\u001b[0mthreading\u001b[0m\u001b[0;34m.\u001b[0m\u001b[0mThread\u001b[0m\u001b[0;34m(\u001b[0m\u001b[0mtarget\u001b[0m\u001b[0;34m=\u001b[0m\u001b[0mfunc\u001b[0m\u001b[0;34m)\u001b[0m \u001b[0;32mfor\u001b[0m \u001b[0mi\u001b[0m \u001b[0;32min\u001b[0m \u001b[0mxrange\u001b[0m\u001b[0;34m(\u001b[0m\u001b[0;36m10000\u001b[0m\u001b[0;34m)\u001b[0m\u001b[0;34m]\u001b[0m\u001b[0;34m\u001b[0m\u001b[0m\n\u001b[1;32m      5\u001b[0m \u001b[0;32mfor\u001b[0m \u001b[0mt\u001b[0m \u001b[0;32min\u001b[0m \u001b[0mthreads\u001b[0m\u001b[0;34m:\u001b[0m\u001b[0;34m\u001b[0m\u001b[0m\n\u001b[0;32m----> 6\u001b[0;31m     \u001b[0mt\u001b[0m\u001b[0;34m.\u001b[0m\u001b[0mstart\u001b[0m\u001b[0;34m(\u001b[0m\u001b[0;34m)\u001b[0m\u001b[0;34m\u001b[0m\u001b[0m\n\u001b[0m\u001b[1;32m      7\u001b[0m \u001b[0;32mfor\u001b[0m \u001b[0mt\u001b[0m \u001b[0;32min\u001b[0m \u001b[0mthreads\u001b[0m\u001b[0;34m:\u001b[0m\u001b[0;34m\u001b[0m\u001b[0m\n\u001b[1;32m      8\u001b[0m     \u001b[0mt\u001b[0m\u001b[0;34m.\u001b[0m\u001b[0mjoin\u001b[0m\u001b[0;34m(\u001b[0m\u001b[0;34m)\u001b[0m\u001b[0;34m\u001b[0m\u001b[0m\n",
        "\u001b[0;32m/usr/local/Cellar/python/2.7.3/Frameworks/Python.framework/Versions/2.7/lib/python2.7/threading.pyc\u001b[0m in \u001b[0;36mstart\u001b[0;34m(self)\u001b[0m\n\u001b[1;32m    492\u001b[0m             \u001b[0m_limbo\u001b[0m\u001b[0;34m[\u001b[0m\u001b[0mself\u001b[0m\u001b[0;34m]\u001b[0m \u001b[0;34m=\u001b[0m \u001b[0mself\u001b[0m\u001b[0;34m\u001b[0m\u001b[0m\n\u001b[1;32m    493\u001b[0m         \u001b[0;32mtry\u001b[0m\u001b[0;34m:\u001b[0m\u001b[0;34m\u001b[0m\u001b[0m\n\u001b[0;32m--> 494\u001b[0;31m             \u001b[0m_start_new_thread\u001b[0m\u001b[0;34m(\u001b[0m\u001b[0mself\u001b[0m\u001b[0;34m.\u001b[0m\u001b[0m__bootstrap\u001b[0m\u001b[0;34m,\u001b[0m \u001b[0;34m(\u001b[0m\u001b[0;34m)\u001b[0m\u001b[0;34m)\u001b[0m\u001b[0;34m\u001b[0m\u001b[0m\n\u001b[0m\u001b[1;32m    495\u001b[0m         \u001b[0;32mexcept\u001b[0m \u001b[0mException\u001b[0m\u001b[0;34m:\u001b[0m\u001b[0;34m\u001b[0m\u001b[0m\n\u001b[1;32m    496\u001b[0m             \u001b[0;32mwith\u001b[0m \u001b[0m_active_limbo_lock\u001b[0m\u001b[0;34m:\u001b[0m\u001b[0;34m\u001b[0m\u001b[0m\n",
        "\u001b[0;31merror\u001b[0m: can't start new thread"
       ]
      }
     ],
     "prompt_number": 17
    }
   ],
   "metadata": {}
  }
 ]
}